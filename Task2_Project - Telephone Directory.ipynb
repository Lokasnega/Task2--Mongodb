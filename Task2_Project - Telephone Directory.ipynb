{
 "cells": [
  {
   "cell_type": "code",
   "execution_count": 1,
   "id": "302976e2",
   "metadata": {},
   "outputs": [],
   "source": [
    "import pymongo"
   ]
  },
  {
   "cell_type": "code",
   "execution_count": 2,
   "id": "0b81c25e",
   "metadata": {},
   "outputs": [],
   "source": [
    "client = pymongo.MongoClient('mongodb://127.0.0.1:27017/')\n",
    "db = client[\"Telephone_Directory\"]\n",
    "information = db.data"
   ]
  },
  {
   "cell_type": "code",
   "execution_count": 6,
   "id": "8648ee3f",
   "metadata": {},
   "outputs": [],
   "source": [
    "record=[{\"Name\":\"Ravi\",\"Phone_number\":9944223765,\"Place\":\"Bangalore\"},\n",
    "        {\"Name\":\"Pooja\",\"Phone_number\":7985674120,\"Place\":\"Chennai\"},\n",
    "        {\"Name\":\"Murali\",\"Phone_number\":9665321975,\"Place\":\"Chennai\"},\n",
    "        {\"Name\":\"Jeevan\",\"Phone_number\":9954321678,\"Place\":\"Mumbai\"},\n",
    "        {\"Name\":\"Babu\",\"Phone_number\":8765439801,\"Place\":\"Delhi\"}]\n"
   ]
  },
  {
   "cell_type": "code",
   "execution_count": 7,
   "id": "0d50816f",
   "metadata": {},
   "outputs": [
    {
     "data": {
      "text/plain": [
       "<pymongo.results.InsertManyResult at 0x2322087a760>"
      ]
     },
     "execution_count": 7,
     "metadata": {},
     "output_type": "execute_result"
    }
   ],
   "source": [
    "# To insert the data into collection\n",
    "information.insert_many(record)"
   ]
  },
  {
   "cell_type": "code",
   "execution_count": 9,
   "id": "db8a4b89",
   "metadata": {},
   "outputs": [
    {
     "name": "stdout",
     "output_type": "stream",
     "text": [
      "{'_id': ObjectId('63620bf13edcd327d2b132eb'), 'Name': 'Ravi', 'Phone_number': 9944223765, 'Place': 'Bangalore'}\n",
      "{'_id': ObjectId('63620bf13edcd327d2b132ec'), 'Name': 'Pooja', 'Phone_number': 7985674120, 'Place': 'Chennai'}\n",
      "{'_id': ObjectId('63620bf13edcd327d2b132ed'), 'Name': 'Murali', 'Phone_number': 9665321975, 'Place': 'Chennai'}\n",
      "{'_id': ObjectId('63620bf13edcd327d2b132ee'), 'Name': 'Jeevan', 'Phone_number': 9954321678, 'Place': 'Mumbai'}\n",
      "{'_id': ObjectId('63620bf13edcd327d2b132ef'), 'Name': 'Babu', 'Phone_number': 8765439801, 'Place': 'Delhi'}\n"
     ]
    }
   ],
   "source": [
    "# To find the records\n",
    "for i in information.find():\n",
    "    print(i)"
   ]
  },
  {
   "cell_type": "code",
   "execution_count": 12,
   "id": "3e2136ba",
   "metadata": {},
   "outputs": [
    {
     "name": "stdout",
     "output_type": "stream",
     "text": [
      "{'_id': ObjectId('63620bf13edcd327d2b132eb'), 'Name': 'Ravi', 'Phone_number': 9944223765, 'Place': 'Bangalore'}\n",
      "{'_id': ObjectId('63620bf13edcd327d2b132ec'), 'Name': 'Pooja', 'Phone_number': 7985674120, 'Place': 'pondicherry'}\n",
      "{'_id': ObjectId('63620bf13edcd327d2b132ed'), 'Name': 'Murali', 'Phone_number': 9665321975, 'Place': 'Chennai'}\n",
      "{'_id': ObjectId('63620bf13edcd327d2b132ee'), 'Name': 'Jeevan', 'Phone_number': 9954321678, 'Place': 'Mumbai'}\n",
      "{'_id': ObjectId('63620bf13edcd327d2b132ef'), 'Name': 'Babu', 'Phone_number': 8765439801, 'Place': 'Delhi'}\n"
     ]
    }
   ],
   "source": [
    "# using update_one CRUD operation\n",
    "information.update_one({\"Name\": \"Pooja\"}, {\"$set\": {\"Place\": \"pondicherry\"}})\n",
    "for i in information.find():\n",
    "    print(i)"
   ]
  },
  {
   "cell_type": "code",
   "execution_count": 13,
   "id": "1c26c80d",
   "metadata": {},
   "outputs": [
    {
     "name": "stdout",
     "output_type": "stream",
     "text": [
      "{'_id': ObjectId('63620bf13edcd327d2b132eb'), 'Name': 'Ravi', 'Phone_number': 9944223765, 'Place': 'Bangalore'}\n",
      "{'_id': ObjectId('63620bf13edcd327d2b132ed'), 'Name': 'Murali', 'Phone_number': 9665321975, 'Place': 'Chennai'}\n",
      "{'_id': ObjectId('63620bf13edcd327d2b132ee'), 'Name': 'Jeevan', 'Phone_number': 9954321678, 'Place': 'Mumbai'}\n",
      "{'_id': ObjectId('63620bf13edcd327d2b132ef'), 'Name': 'Babu', 'Phone_number': 8765439801, 'Place': 'Delhi'}\n"
     ]
    }
   ],
   "source": [
    "# using delete_one CRUD operation\n",
    "information.delete_one({\"Name\": \"Pooja\"})\n",
    "for i in information.find():\n",
    "    print(i)"
   ]
  }
 ],
 "metadata": {
  "kernelspec": {
   "display_name": "Python 3 (ipykernel)",
   "language": "python",
   "name": "python3"
  },
  "language_info": {
   "codemirror_mode": {
    "name": "ipython",
    "version": 3
   },
   "file_extension": ".py",
   "mimetype": "text/x-python",
   "name": "python",
   "nbconvert_exporter": "python",
   "pygments_lexer": "ipython3",
   "version": "3.9.13"
  }
 },
 "nbformat": 4,
 "nbformat_minor": 5
}
